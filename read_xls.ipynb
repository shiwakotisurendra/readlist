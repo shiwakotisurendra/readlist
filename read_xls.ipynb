{
 "cells": [
  {
   "cell_type": "code",
   "execution_count": 1,
   "metadata": {},
   "outputs": [],
   "source": [
    "import pandas as pd "
   ]
  },
  {
   "cell_type": "code",
   "execution_count": 4,
   "metadata": {},
   "outputs": [
    {
     "data": {
      "text/html": [
       "<div>\n",
       "<style scoped>\n",
       "    .dataframe tbody tr th:only-of-type {\n",
       "        vertical-align: middle;\n",
       "    }\n",
       "\n",
       "    .dataframe tbody tr th {\n",
       "        vertical-align: top;\n",
       "    }\n",
       "\n",
       "    .dataframe thead th {\n",
       "        text-align: right;\n",
       "    }\n",
       "</style>\n",
       "<table border=\"1\" class=\"dataframe\">\n",
       "  <thead>\n",
       "    <tr style=\"text-align: right;\">\n",
       "      <th></th>\n",
       "      <th>first_list</th>\n",
       "      <th>second_list</th>\n",
       "    </tr>\n",
       "  </thead>\n",
       "  <tbody>\n",
       "    <tr>\n",
       "      <th>0</th>\n",
       "      <td>abgrundtief - abysmal</td>\n",
       "      <td>abenteuerlich - adventurous</td>\n",
       "    </tr>\n",
       "    <tr>\n",
       "      <th>1</th>\n",
       "      <td>abweichen - to deviate</td>\n",
       "      <td>abhängig - dependent</td>\n",
       "    </tr>\n",
       "    <tr>\n",
       "      <th>2</th>\n",
       "      <td>achtsam - mindful</td>\n",
       "      <td>abwechslungsreich - varied</td>\n",
       "    </tr>\n",
       "    <tr>\n",
       "      <th>3</th>\n",
       "      <td>aktivieren - to activate</td>\n",
       "      <td>akzeptieren - to accept</td>\n",
       "    </tr>\n",
       "    <tr>\n",
       "      <th>4</th>\n",
       "      <td>allgemein - general</td>\n",
       "      <td>albern - silly</td>\n",
       "    </tr>\n",
       "    <tr>\n",
       "      <th>...</th>\n",
       "      <td>...</td>\n",
       "      <td>...</td>\n",
       "    </tr>\n",
       "    <tr>\n",
       "      <th>595</th>\n",
       "      <td>stabilisieren - to stabilize</td>\n",
       "      <td>lösungsorientiert - solution-focused</td>\n",
       "    </tr>\n",
       "    <tr>\n",
       "      <th>596</th>\n",
       "      <td>stärken - to strengthen</td>\n",
       "      <td>mächtig - potent</td>\n",
       "    </tr>\n",
       "    <tr>\n",
       "      <th>597</th>\n",
       "      <td>steigern - to enhance</td>\n",
       "      <td>nachvollziehbar - comprehensible</td>\n",
       "    </tr>\n",
       "    <tr>\n",
       "      <th>598</th>\n",
       "      <td>strategisch - strategic</td>\n",
       "      <td>naturverbunden - nature-loving</td>\n",
       "    </tr>\n",
       "    <tr>\n",
       "      <th>599</th>\n",
       "      <td>streben - to strive</td>\n",
       "      <td>neuartig - novel</td>\n",
       "    </tr>\n",
       "  </tbody>\n",
       "</table>\n",
       "<p>600 rows × 2 columns</p>\n",
       "</div>"
      ],
      "text/plain": [
       "                       first_list                           second_list\n",
       "0           abgrundtief - abysmal           abenteuerlich - adventurous\n",
       "1          abweichen - to deviate                  abhängig - dependent\n",
       "2               achtsam - mindful            abwechslungsreich - varied\n",
       "3        aktivieren - to activate               akzeptieren - to accept\n",
       "4             allgemein - general                        albern - silly\n",
       "..                            ...                                   ...\n",
       "595  stabilisieren - to stabilize  lösungsorientiert - solution-focused\n",
       "596       stärken - to strengthen                      mächtig - potent\n",
       "597         steigern - to enhance      nachvollziehbar - comprehensible\n",
       "598       strategisch - strategic        naturverbunden - nature-loving\n",
       "599           streben - to strive                      neuartig - novel\n",
       "\n",
       "[600 rows x 2 columns]"
      ]
     },
     "execution_count": 4,
     "metadata": {},
     "output_type": "execute_result"
    }
   ],
   "source": [
    "df = pd.read_excel(\"./Book1.xlsx\")\n",
    "df"
   ]
  },
  {
   "cell_type": "code",
   "execution_count": 6,
   "metadata": {},
   "outputs": [
    {
     "data": {
      "text/plain": [
       "['zweifellos - undeniable',\n",
       " 'objektiv - objective',\n",
       " 'humorvoll - witty',\n",
       " 'achtsamkeit - mindfulness',\n",
       " 'gezielt - deliberate',\n",
       " 'dankbar - thankful',\n",
       " 'manifestieren - to manifest',\n",
       " 'akribisch - meticulous',\n",
       " 'plädieren - to plead',\n",
       " 'zielgerichtet - focused',\n",
       " 'eindrucksvoll - impressive',\n",
       " 'furchtlos - fearless',\n",
       " 'betrachten - to contemplate',\n",
       " 'humorvoll - funny',\n",
       " 'stabilisieren - to stabilize',\n",
       " 'fantasievoll - imaginative',\n",
       " 'geistreich - witty',\n",
       " 'phantasievoll - whimsical',\n",
       " 'fortschrittlich - advanced',\n",
       " 'denken - to contemplate',\n",
       " 'spitzfindig - pernickety',\n",
       " 'allgemein - general',\n",
       " 'genauer - more precise',\n",
       " 'humorvoll - humorous',\n",
       " 'interessant - compelling',\n",
       " 'kritisch - critical',\n",
       " 'feinsinnig - subtle',\n",
       " 'vorbildlich - exemplary',\n",
       " 'geistig - intellectual',\n",
       " 'intelligent - smart',\n",
       " 'abstrakt - abstract',\n",
       " 'vollkommen - flawless',\n",
       " 'vielseitig - multifaceted',\n",
       " 'kritisch - critical',\n",
       " 'souverän - self-assured',\n",
       " 'neugierig - curious',\n",
       " 'erzeugen - to produce',\n",
       " 'ausdauernd - persevering',\n",
       " 'beachtenswert - remarkable',\n",
       " 'phantasievoll - imaginative',\n",
       " 'beachtenswert - impressive',\n",
       " 'scharfsinnig - perceptive',\n",
       " 'alltäglich - everyday',\n",
       " 'auffällig - conspicuous',\n",
       " 'organisiert - well-organized',\n",
       " 'emotional berührend - touching',\n",
       " 'umfassend - all-encompassing',\n",
       " 'intelligent - intelligent',\n",
       " 'bilden - to form',\n",
       " 'lebhaft - spirited']"
      ]
     },
     "execution_count": 6,
     "metadata": {},
     "output_type": "execute_result"
    }
   ],
   "source": [
    "import random\n",
    "random.sample(df[\"first_list\"].tolist(),50)"
   ]
  },
  {
   "cell_type": "code",
   "execution_count": null,
   "metadata": {},
   "outputs": [],
   "source": []
  },
  {
   "cell_type": "code",
   "execution_count": null,
   "metadata": {},
   "outputs": [],
   "source": []
  }
 ],
 "metadata": {
  "kernelspec": {
   "display_name": "geo52n",
   "language": "python",
   "name": "python3"
  },
  "language_info": {
   "codemirror_mode": {
    "name": "ipython",
    "version": 3
   },
   "file_extension": ".py",
   "mimetype": "text/x-python",
   "name": "python",
   "nbconvert_exporter": "python",
   "pygments_lexer": "ipython3",
   "version": "3.11.3"
  },
  "orig_nbformat": 4
 },
 "nbformat": 4,
 "nbformat_minor": 2
}
